{
 "cells": [
  {
   "cell_type": "code",
   "execution_count": 29,
   "metadata": {},
   "outputs": [],
   "source": [
    "import requests\n",
    "from datetime import datetime\n",
    "from bs4 import BeautifulSoup\n",
    "from tqdm.notebook import tqdm\n",
    "import time\n",
    "import urllib3\n",
    "import random\n",
    "urllib3.disable_warnings()"
   ]
  },
  {
   "cell_type": "code",
   "execution_count": null,
   "metadata": {},
   "outputs": [],
   "source": []
  },
  {
   "cell_type": "code",
   "execution_count": 2,
   "metadata": {},
   "outputs": [],
   "source": [
    "logindata = {\n",
    " 'inbox':{\"username\":\"rs31@inbox.ru\",\"password\":\"ALEX12345\"},\n",
    " 'gmail': {\"username\":\"supermariolanza@gmail.com\",\"password\":\"Alex12345\"}\n",
    "}"
   ]
  },
  {
   "cell_type": "code",
   "execution_count": 4,
   "metadata": {},
   "outputs": [],
   "source": [
    "u = logindata['inbox']['username']\n",
    "p = logindata['inbox']['password']\n",
    "def get_token(u, p):\n",
    "    s = requests.Session()\n",
    "    data = {\"username\":u,\"password\":p}\n",
    "    url = \"https://sportme.club/sport/auth/login\"\n",
    "    r = s.post(url, data=data, verify=False)\n",
    "    request_result = r.json()\n",
    "    return request_result['token']"
   ]
  },
  {
   "cell_type": "code",
   "execution_count": 5,
   "metadata": {},
   "outputs": [],
   "source": [
    "u = logindata['inbox']['username']\n",
    "p = logindata['inbox']['password']\n",
    "token = get_token(u, p)"
   ]
  },
  {
   "cell_type": "code",
   "execution_count": 6,
   "metadata": {},
   "outputs": [],
   "source": [
    "\n",
    "def make_rq_url(mydate='2020-08-12', myaddress='52'):\n",
    "    url = 'https://sportme.club/sport/events/search?zoneId=Europe/Moscow&'\n",
    "    url += f'objectId={myaddress}&cityId=1'\n",
    "    url += f\"&pageSize=10&date={mydate}%2019:00:00&startTime=07:00\"\n",
    "    url += f\"&pageNo=1&rand=0.7210804589143462\"\n",
    "    return url"
   ]
  },
  {
   "cell_type": "code",
   "execution_count": 7,
   "metadata": {},
   "outputs": [
    {
     "data": {
      "text/plain": [
       "'https://sportme.club/sport/events/search?zoneId=Europe/Moscow&objectId=52&cityId=1&pageSize=10&date=2020-08-12%2019:00:00&startTime=07:00&pageNo=1&rand=0.7210804589143462'"
      ]
     },
     "execution_count": 7,
     "metadata": {},
     "output_type": "execute_result"
    }
   ],
   "source": [
    "make_rq_url()"
   ]
  },
  {
   "cell_type": "code",
   "execution_count": 8,
   "metadata": {},
   "outputs": [],
   "source": [
    "def get_events_info(token,mydate,myaddress='52'):\n",
    "    myurl = make_rq_url(mydate=mydate, myaddress=myaddress)\n",
    "    myheaders = {\"x-auth-token\":token}\n",
    "    res = requests.get(myurl, headers=myheaders, verify=False)\n",
    "    return res.json()\n",
    "    \n",
    "\n",
    "    \n",
    "    "
   ]
  },
  {
   "cell_type": "code",
   "execution_count": 9,
   "metadata": {},
   "outputs": [],
   "source": [
    "# get_events_info(token,mydate='2020-08-11',myaddress='1')"
   ]
  },
  {
   "cell_type": "code",
   "execution_count": 13,
   "metadata": {},
   "outputs": [],
   "source": [
    "def get_all_events(dates, token, myaddress):\n",
    "    all_events = []\n",
    "    for mydate in dates:\n",
    "        event_json = get_events_info(token, mydate, myaddress)\n",
    "        eventlist = event_json['data']['newTomorrow']\n",
    "        new_eventlist = []\n",
    "        for el in eventlist:\n",
    "            places = el['places']['free']\n",
    "            event_id = el['bookId']\n",
    "            event_start = el['dateBegin']\n",
    "            new_eventlist.append((event_id,event_start,places))\n",
    "        all_events.extend(new_eventlist)\n",
    "        time.sleep(1)\n",
    "    return all_events\n",
    "\n",
    "def get_morning_events(all_events):\n",
    "    morning_events = []\n",
    "    for el in all_events:\n",
    "        if el[1].split(' ')[1] == '07:00:00':\n",
    "            morning_events.append(el[0])\n",
    "    return morning_events\n",
    "    "
   ]
  },
  {
   "cell_type": "code",
   "execution_count": 14,
   "metadata": {},
   "outputs": [
    {
     "data": {
      "text/plain": [
       "[6114, 6118]"
      ]
     },
     "execution_count": 14,
     "metadata": {},
     "output_type": "execute_result"
    }
   ],
   "source": [
    "dates = [\n",
    "    '2020-08-12',\n",
    "    '2020-08-13' \n",
    "]\n",
    "myaddress='1'\n",
    "get_morning_events(get_all_events(dates,token,myaddress))"
   ]
  },
  {
   "cell_type": "code",
   "execution_count": 15,
   "metadata": {},
   "outputs": [
    {
     "data": {
      "text/plain": [
       "[(6062, '2020-08-13 07:00:00', 0),\n",
       " (6068, '2020-08-13 10:00:00', 0),\n",
       " (6073, '2020-08-13 12:30:00', 0),\n",
       " (6078, '2020-08-13 15:00:00', 0),\n",
       " (6079, '2020-08-13 17:30:00', 0),\n",
       " (6088, '2020-08-13 20:30:00', 0),\n",
       " (6063, '2020-08-14 07:00:00', 0),\n",
       " (6067, '2020-08-14 10:00:00', 0),\n",
       " (6072, '2020-08-14 12:30:00', 0),\n",
       " (6077, '2020-08-14 15:00:00', 0),\n",
       " (6081, '2020-08-14 17:30:00', 0),\n",
       " (6087, '2020-08-14 20:30:00', 0)]"
      ]
     },
     "execution_count": 15,
     "metadata": {},
     "output_type": "execute_result"
    }
   ],
   "source": [
    "get_all_events(dates,token,'52')"
   ]
  },
  {
   "cell_type": "code",
   "execution_count": 17,
   "metadata": {},
   "outputs": [],
   "source": [
    "def get_events_status(events):\n",
    "    \"\"\"Получает короткую инфо об ивентах\"\"\"\n",
    "    \n",
    "    eventids = ','.join([str(x) for x in events])\n",
    "    url = \"https://sportme.club\"\n",
    "    url += f\"/sport/events/places?ids={eventids}&rand=0.12051863865376755\"\n",
    "    myheaders = {\"x-auth-token\":token}\n",
    "    res = requests.get(url, headers=myheaders, verify=False)\n",
    "    return res.json()"
   ]
  },
  {
   "cell_type": "code",
   "execution_count": 19,
   "metadata": {},
   "outputs": [],
   "source": [
    "ei = get_events_status([6060, 6062, 6063])"
   ]
  },
  {
   "cell_type": "code",
   "execution_count": 20,
   "metadata": {},
   "outputs": [
    {
     "ename": "NameError",
     "evalue": "name 'check_event_freedom' is not defined",
     "output_type": "error",
     "traceback": [
      "\u001b[1;31m---------------------------------------------------------------------------\u001b[0m",
      "\u001b[1;31mNameError\u001b[0m                                 Traceback (most recent call last)",
      "\u001b[1;32m<ipython-input-20-eda025c53397>\u001b[0m in \u001b[0;36m<module>\u001b[1;34m\u001b[0m\n\u001b[1;32m----> 1\u001b[1;33m \u001b[0mcheck_event_freedom\u001b[0m\u001b[1;33m(\u001b[0m\u001b[0mei\u001b[0m\u001b[1;33m)\u001b[0m\u001b[1;33m\u001b[0m\u001b[0m\n\u001b[0m",
      "\u001b[1;31mNameError\u001b[0m: name 'check_event_freedom' is not defined"
     ]
    }
   ],
   "source": [
    "check_event_freedom(ei)"
   ]
  },
  {
   "cell_type": "code",
   "execution_count": 21,
   "metadata": {},
   "outputs": [],
   "source": [
    "def check_event_freedom(events_info):\n",
    "    freebookids = []\n",
    "    for el in events_info['data']:\n",
    "        if el['free'] > 0:\n",
    "            freebookids.append(el['bookId'])\n",
    "    if freebookids:\n",
    "        return freebookids\n",
    "    else:\n",
    "        return None"
   ]
  },
  {
   "cell_type": "code",
   "execution_count": 22,
   "metadata": {},
   "outputs": [],
   "source": [
    "def check_morning_events(dates,token,myaddress):\n",
    "    \"\"\" Проверяет наличие свободных мест по утрам \"\"\"\n",
    "    \n",
    "    events = get_morning_events(get_all_events(dates,token,myaddress))\n",
    "    event_info = get_events_status(events)\n",
    "    result = check_event_freedom(event_info)\n",
    "    return result\n",
    "    "
   ]
  },
  {
   "cell_type": "code",
   "execution_count": null,
   "metadata": {},
   "outputs": [],
   "source": []
  },
  {
   "cell_type": "code",
   "execution_count": 23,
   "metadata": {},
   "outputs": [
    {
     "data": {
      "text/plain": [
       "[6114, 6118]"
      ]
     },
     "execution_count": 23,
     "metadata": {},
     "output_type": "execute_result"
    }
   ],
   "source": [
    "check_morning_events(dates,token,'1')"
   ]
  },
  {
   "cell_type": "code",
   "execution_count": 24,
   "metadata": {},
   "outputs": [],
   "source": [
    "free_bookids = check_morning_events(dates,token,'1')"
   ]
  },
  {
   "cell_type": "code",
   "execution_count": null,
   "metadata": {},
   "outputs": [],
   "source": []
  },
  {
   "cell_type": "code",
   "execution_count": null,
   "metadata": {},
   "outputs": [],
   "source": []
  },
  {
   "cell_type": "code",
   "execution_count": 143,
   "metadata": {},
   "outputs": [],
   "source": [
    "u = logindata['inbox']['username']\n",
    "p = logindata['inbox']['password']\n",
    "token = get_token(u, p)"
   ]
  },
  {
   "cell_type": "code",
   "execution_count": 25,
   "metadata": {},
   "outputs": [],
   "source": [
    "def check_event_booking(event_id, myheaders):\n",
    "    url = f'https://sportme.club/sport/events/{event_id}/check?rand=0.4829101962936897'\n",
    "    res = requests.put(url, headers=myheaders, verify=False)\n",
    "    book_status = res.json()\n",
    "    return book_status"
   ]
  },
  {
   "cell_type": "code",
   "execution_count": 179,
   "metadata": {},
   "outputs": [
    {
     "data": {
      "text/plain": [
       "{'message': 'FINISH_BOOKING'}"
      ]
     },
     "execution_count": 179,
     "metadata": {},
     "output_type": "execute_result"
    }
   ],
   "source": [
    "check_event_booking(event_id, myheaders)\n",
    "# {'state': 'OK'} {'message': 'FINISH_BOOKING'}"
   ]
  },
  {
   "cell_type": "code",
   "execution_count": 30,
   "metadata": {},
   "outputs": [],
   "source": [
    "def book_event(event_id):\n",
    "    \"\"\"Бронирует если ивент еще не забронирован\"\"\"\n",
    "    \n",
    "    rand = random.random()\n",
    "    url = f'https://sportme.club/sport/events/{event_id}/reserve?rand={rand}'\n",
    "    myheaders = {\n",
    "    \"x-auth-token\":token,\n",
    "    'authority': 'sportme.club',\n",
    "    'method': 'POST',\n",
    "    'path': f'/sport/events/{event_id}/reserve?rand={rand}',\n",
    "    'scheme': 'https',\n",
    "    'accept': '*/*',\n",
    "    'accept-encoding': 'gzip, deflate, br',\n",
    "    'accept-language': 'ru-RU,ru;q=0.9,en-US;q=0.8,en;q=0.7',\n",
    "    'clientwidth': '1615',\n",
    "    'content-length': '0',\n",
    "    'ip': '185.18.4.94',\n",
    "    'origin': 'https://sportme.club',\n",
    "    'sec-fetch-dest': 'empty',\n",
    "    'sec-fetch-mode': 'cors',\n",
    "    'sec-fetch-site': 'same-origin',\n",
    "    'timezone': '1',\n",
    "    'user-agent': 'Mozilla/5.0 (Macintosh; Intel Mac OS X 10_15_5) AppleWebKit/537.36 (KHTML, like Gecko) Chrome/84.0.4147.105 Safari/537.36',\n",
    "    'x-requested-with': 'XMLHttpRequest',\n",
    "    }\n",
    "    checker = check_event_booking(event_id, myheaders)\n",
    "    if checker.get('state') == 'OK' or checker.get('message') == 'FINISH_BOOKING':\n",
    "        res = requests.post(url, headers=myheaders, verify=False)\n",
    "        result = res.json()\n",
    "        if result['state'] == 'OK':\n",
    "            print(f'Слот {event_id} забронирован')\n",
    "            return True\n",
    "        else:\n",
    "            print(f'Не получается забронировать {event_id}')\n",
    "            return None\n",
    "    else:\n",
    "        print('checker не пускает ')\n",
    "        return None\n",
    "    return "
   ]
  },
  {
   "cell_type": "code",
   "execution_count": 31,
   "metadata": {},
   "outputs": [],
   "source": [
    "def unbook_event(event_id):\n",
    "    rand = random.random()\n",
    "    url = f'https://sportme.club/sport/events/{event_id}/unreserve?rand={rand}'\n",
    "    myheaders = {\n",
    "    \"x-auth-token\":token,\n",
    "    'authority': 'sportme.club',\n",
    "    'method': 'POST',\n",
    "    'path': f'/sport/events/{event_id}/reserve?rand={rand}',\n",
    "    'scheme': 'https',\n",
    "    'accept': '*/*',\n",
    "    'accept-encoding': 'gzip, deflate, br',\n",
    "    'accept-language': 'ru-RU,ru;q=0.9,en-US;q=0.8,en;q=0.7',\n",
    "    'clientwidth': '1615',\n",
    "    'content-length': '0',\n",
    "    'ip': '185.18.4.94',\n",
    "    'origin': 'https://sportme.club',\n",
    "    'sec-fetch-dest': 'empty',\n",
    "    'sec-fetch-mode': 'cors',\n",
    "    'sec-fetch-site': 'same-origin',\n",
    "    'timezone': '1',\n",
    "    'user-agent': 'Mozilla/5.0 (Macintosh; Intel Mac OS X 10_15_5) AppleWebKit/537.36 (KHTML, like Gecko) Chrome/84.0.4147.105 Safari/537.36',\n",
    "    'x-requested-with': 'XMLHttpRequest',\n",
    "    }\n",
    "    \n",
    "    res = requests.post(url, headers=myheaders, verify=False)\n",
    "    result = res.json()\n",
    "    if result['state'] == 'OK':\n",
    "        print(f'Бронирование {event_id} отменено')\n",
    "        return True\n",
    "    else:\n",
    "        print(f'Не удалось отменить бронь {event_id}')\n",
    "        return None"
   ]
  },
  {
   "cell_type": "code",
   "execution_count": 33,
   "metadata": {},
   "outputs": [
    {
     "name": "stdout",
     "output_type": "stream",
     "text": [
      "checker не пускает \n"
     ]
    }
   ],
   "source": [
    "book_event(free_bookids[1])"
   ]
  },
  {
   "cell_type": "code",
   "execution_count": 35,
   "metadata": {},
   "outputs": [
    {
     "name": "stdout",
     "output_type": "stream",
     "text": [
      "Бронирование 6118 отменено\n"
     ]
    },
    {
     "data": {
      "text/plain": [
       "True"
      ]
     },
     "execution_count": 35,
     "metadata": {},
     "output_type": "execute_result"
    }
   ],
   "source": [
    "unbook_event(free_bookids[1])"
   ]
  },
  {
   "cell_type": "code",
   "execution_count": 37,
   "metadata": {},
   "outputs": [
    {
     "name": "stdout",
     "output_type": "stream",
     "text": [
      "Цикл 0 работаем...\n",
      "Цикл 100 работаем...\n",
      "Цикл 200 работаем...\n",
      "Цикл 300 работаем...\n",
      "Цикл 400 работаем...\n",
      "Слот 6062 забронирован\n",
      "Цикл 500 работаем...\n",
      "Цикл 600 работаем...\n",
      "Цикл 700 работаем...\n",
      "Цикл 800 работаем...\n",
      "Цикл 900 работаем...\n",
      "Цикл 1000 работаем...\n",
      "Цикл 1100 работаем...\n",
      "Цикл 1200 работаем...\n",
      "Цикл 1300 работаем...\n",
      "Цикл 1400 работаем...\n",
      "Цикл 1500 работаем...\n",
      "Цикл 1600 работаем...\n",
      "Цикл 1700 работаем...\n",
      "Слот 6063 забронирован\n",
      "Цикл 1800 работаем...\n",
      "Цикл 1900 работаем...\n",
      "Цикл 2000 работаем...\n"
     ]
    },
    {
     "ename": "KeyboardInterrupt",
     "evalue": "",
     "output_type": "error",
     "traceback": [
      "\u001b[1;31m---------------------------------------------------------------------------\u001b[0m",
      "\u001b[1;31mKeyboardInterrupt\u001b[0m                         Traceback (most recent call last)",
      "\u001b[1;32m<ipython-input-37-953af05700a2>\u001b[0m in \u001b[0;36m<module>\u001b[1;34m\u001b[0m\n\u001b[0;32m     12\u001b[0m                     \u001b[0mbooked_events\u001b[0m\u001b[1;33m.\u001b[0m\u001b[0mappend\u001b[0m\u001b[1;33m(\u001b[0m\u001b[0mevent_id\u001b[0m\u001b[1;33m)\u001b[0m\u001b[1;33m\u001b[0m\u001b[0m\n\u001b[0;32m     13\u001b[0m                 \u001b[0mtime\u001b[0m\u001b[1;33m.\u001b[0m\u001b[0msleep\u001b[0m\u001b[1;33m(\u001b[0m\u001b[1;36m1\u001b[0m\u001b[1;33m)\u001b[0m\u001b[1;33m\u001b[0m\u001b[0m\n\u001b[1;32m---> 14\u001b[1;33m     \u001b[0mtime\u001b[0m\u001b[1;33m.\u001b[0m\u001b[0msleep\u001b[0m\u001b[1;33m(\u001b[0m\u001b[1;36m30\u001b[0m\u001b[1;33m)\u001b[0m\u001b[1;33m\u001b[0m\u001b[0m\n\u001b[0m\u001b[0;32m     15\u001b[0m     \u001b[0mc\u001b[0m \u001b[1;33m+=\u001b[0m \u001b[1;36m1\u001b[0m\u001b[1;33m\u001b[0m\u001b[0m\n\u001b[0;32m     16\u001b[0m     \u001b[1;32mif\u001b[0m \u001b[0mlen\u001b[0m\u001b[1;33m(\u001b[0m\u001b[0mbooked_events\u001b[0m\u001b[1;33m)\u001b[0m \u001b[1;33m>\u001b[0m \u001b[1;36m2\u001b[0m \u001b[1;33m:\u001b[0m\u001b[1;33m\u001b[0m\u001b[0m\n",
      "\u001b[1;31mKeyboardInterrupt\u001b[0m: "
     ]
    }
   ],
   "source": [
    "booked_events = []\n",
    "c = 0\n",
    "while True:\n",
    "    if c % 100 == 0:\n",
    "        print(f'Цикл {c} работаем...')\n",
    "    free_bookids = check_morning_events(dates,token,'52')\n",
    "    if free_bookids:\n",
    "        for event_id in free_bookids:\n",
    "            if event_id not in booked_events:\n",
    "                b_result = book_event(event_id)\n",
    "                if b_result:\n",
    "                    booked_events.append(event_id)\n",
    "                time.sleep(1)\n",
    "    time.sleep(30)\n",
    "    c += 1\n",
    "    if len(booked_events) > 2 :\n",
    "        print(\"Дело сделано\")\n",
    "        break\n",
    "       "
   ]
  },
  {
   "cell_type": "code",
   "execution_count": null,
   "metadata": {},
   "outputs": [],
   "source": []
  },
  {
   "cell_type": "code",
   "execution_count": null,
   "metadata": {},
   "outputs": [],
   "source": []
  }
 ],
 "metadata": {
  "kernelspec": {
   "display_name": "Python 3",
   "language": "python",
   "name": "python3"
  },
  "language_info": {
   "codemirror_mode": {
    "name": "ipython",
    "version": 3
   },
   "file_extension": ".py",
   "mimetype": "text/x-python",
   "name": "python",
   "nbconvert_exporter": "python",
   "pygments_lexer": "ipython3",
   "version": "3.6.1"
  }
 },
 "nbformat": 4,
 "nbformat_minor": 2
}
